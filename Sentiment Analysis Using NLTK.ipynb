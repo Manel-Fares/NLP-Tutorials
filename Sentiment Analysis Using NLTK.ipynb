{
 "cells": [
  {
   "cell_type": "code",
   "execution_count": 1,
   "metadata": {},
   "outputs": [],
   "source": [
    "import nltk \n",
    "import random \n",
    "from nltk.classify.scikitlearn import SklearnClassifier \n",
    "import pickle \n",
    "from sklearn.naive_bayes import MultinomialNB, BernoulliNB\n",
    "from sklearn.linear_model import LogisticRegression, SGDClassifier \n",
    "from sklearn.svm import SVC, LinearSVC, NuSVC\n",
    "from nltk.classify import ClassifierI \n",
    "from statistics import mode \n",
    "from nltk.tokenize import word_tokenize \n",
    "import re \n",
    "import os "
   ]
  },
  {
   "cell_type": "code",
   "execution_count": 2,
   "metadata": {},
   "outputs": [],
   "source": [
    "files_pos = os.listdir('acl-imdb-v1/train/pos') \n",
    "files_pos = [open('acl-imdb-v1/train/pos/'+f,'r',encoding = 'utf8').read() for f in files_pos] \n",
    "files_neg = os.listdir('acl-imdb-v1/train/neg') \n",
    "files_neg = [open('acl-imdb-v1/train/neg/'+f,'r',encoding = 'utf8').read() for f in files_neg] \n"
   ]
  },
  {
   "cell_type": "code",
   "execution_count": 3,
   "metadata": {},
   "outputs": [
    {
     "data": {
      "text/plain": [
       "(12500, 12500)"
      ]
     },
     "execution_count": 3,
     "metadata": {},
     "output_type": "execute_result"
    }
   ],
   "source": [
    "len(files_pos),len(files_neg) "
   ]
  },
  {
   "cell_type": "code",
   "execution_count": 4,
   "metadata": {},
   "outputs": [],
   "source": [
    "files_pos = files_pos[0:1000] \n",
    "files_neg = files_neg[0:1000] "
   ]
  },
  {
   "cell_type": "code",
   "execution_count": 5,
   "metadata": {},
   "outputs": [
    {
     "data": {
      "text/plain": [
       "(1000, 1000)"
      ]
     },
     "execution_count": 5,
     "metadata": {},
     "output_type": "execute_result"
    }
   ],
   "source": [
    "len(files_pos),len(files_neg) "
   ]
  },
  {
   "cell_type": "code",
   "execution_count": 6,
   "metadata": {},
   "outputs": [],
   "source": [
    "from nltk.corpus import stopwords\n",
    "stop_words = list(set(stopwords.words('english')))"
   ]
  },
  {
   "cell_type": "code",
   "execution_count": 7,
   "metadata": {},
   "outputs": [],
   "source": [
    "all_words  = []\n",
    "documents = []\n",
    "\n",
    "allowed_words_types = [\"J\"]\n",
    "for p in files_pos:\n",
    "    documents.append( (p, \"pos\") )\n",
    "    cleaned = re.sub(r'[^(a-zA-Z)\\s]','',p)\n",
    "    tokenized = word_tokenize(cleaned)\n",
    "    stopped = [w for w in tokenized if not w in stop_words]\n",
    "    pos = nltk.pos_tag(stopped)\n",
    "    for w in pos :\n",
    "        if w[1][0] in allowed_words_types:\n",
    "            all_words.append(w[0].lower())\n",
    "\n",
    "for p in files_neg:\n",
    "    documents.append( (p, \"neg\") )\n",
    "    cleaned = re.sub(r'[^(a-zA-Z)\\s]','',p)\n",
    "    tokenized = word_tokenize(cleaned)\n",
    "    stopped = [w for w in tokenized if not w in stop_words]\n",
    "    pos = nltk.pos_tag(stopped)\n",
    "    for w in pos :\n",
    "        if w[1][0] in allowed_words_types:\n",
    "            all_words.append(w[0].lower())\n",
    "            "
   ]
  },
  {
   "cell_type": "code",
   "execution_count": 8,
   "metadata": {},
   "outputs": [
    {
     "data": {
      "text/plain": [
       "FreqDist({'good': 1157, 'bad': 743, 'great': 660, 'much': 482, 'little': 482, 'many': 480, 'first': 374, 'best': 357, 'real': 317, 'br': 302, ...})"
      ]
     },
     "execution_count": 8,
     "metadata": {},
     "output_type": "execute_result"
    }
   ],
   "source": [
    "all_words = nltk.FreqDist(all_words)\n",
    "all_words"
   ]
  },
  {
   "cell_type": "code",
   "execution_count": 9,
   "metadata": {},
   "outputs": [
    {
     "data": {
      "image/png": "[encoded data removed]",
      "text/plain": [
       "<Figure size 432x288 with 1 Axes>"
      ]
     },
     "metadata": {
      "needs_background": "light"
     },
     "output_type": "display_data"
    }
   ],
   "source": [
    "import matplotlib.pyplot as plt\n",
    "all_words.plot(30,cumulative = False)\n",
    "plt.show()"
   ]
  },
  {
   "cell_type": "code",
   "execution_count": null,
   "metadata": {},
   "outputs": [],
   "source": []
  }
 ],
 "metadata": {
  "kernelspec": {
   "display_name": "Python 3",
   "language": "python",
   "name": "python3"
  },
  "language_info": {
   "codemirror_mode": {
    "name": "ipython",
    "version": 3
   },
   "file_extension": ".py",
   "mimetype": "text/x-python",
   "name": "python",
   "nbconvert_exporter": "python",
   "pygments_lexer": "ipython3",
   "version": "3.8.3"
  }
 },
 "nbformat": 4,
 "nbformat_minor": 4
}
